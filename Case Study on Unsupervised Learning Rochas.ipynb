{
 "cells": [
  {
   "cell_type": "code",
   "execution_count": 244,
   "id": "08ae729a-5f83-4228-ada7-220e9fd4c9ab",
   "metadata": {},
   "outputs": [],
   "source": [
    "import numpy as np\n",
    "import pandas as pd\n",
    "import matplotlib.pyplot as plt\n",
    "from sklearn.preprocessing import LabelEncoder, OneHotEncoder, MinMaxScaler\n",
    "from sklearn.cluster import KMeans\n",
    "import seaborn as sns"
   ]
  },
  {
   "cell_type": "code",
   "execution_count": 245,
   "id": "5bc30bf4-836b-440c-9a1d-925e6a7d77bc",
   "metadata": {},
   "outputs": [],
   "source": [
    "df = pd.read_csv('force2020_data.csv')"
   ]
  },
  {
   "cell_type": "code",
   "execution_count": 246,
   "id": "dcad312d-299d-42eb-8003-30153c5ff00a",
   "metadata": {},
   "outputs": [
    {
     "data": {
      "text/html": [
       "<div>\n",
       "<style scoped>\n",
       "    .dataframe tbody tr th:only-of-type {\n",
       "        vertical-align: middle;\n",
       "    }\n",
       "\n",
       "    .dataframe tbody tr th {\n",
       "        vertical-align: top;\n",
       "    }\n",
       "\n",
       "    .dataframe thead th {\n",
       "        text-align: right;\n",
       "    }\n",
       "</style>\n",
       "<table border=\"1\" class=\"dataframe\">\n",
       "  <thead>\n",
       "    <tr style=\"text-align: right;\">\n",
       "      <th></th>\n",
       "      <th>RHOB</th>\n",
       "      <th>GR</th>\n",
       "      <th>DEPTH_MD</th>\n",
       "      <th>NPHI</th>\n",
       "      <th>PEF</th>\n",
       "      <th>DTC</th>\n",
       "    </tr>\n",
       "  </thead>\n",
       "  <tbody>\n",
       "    <tr>\n",
       "      <th>0</th>\n",
       "      <td>1.884186</td>\n",
       "      <td>80.200851</td>\n",
       "      <td>494.528</td>\n",
       "      <td>NaN</td>\n",
       "      <td>20.915468</td>\n",
       "      <td>161.131180</td>\n",
       "    </tr>\n",
       "    <tr>\n",
       "      <th>1</th>\n",
       "      <td>1.889794</td>\n",
       "      <td>79.262886</td>\n",
       "      <td>494.680</td>\n",
       "      <td>NaN</td>\n",
       "      <td>19.383013</td>\n",
       "      <td>160.603470</td>\n",
       "    </tr>\n",
       "    <tr>\n",
       "      <th>2</th>\n",
       "      <td>1.896523</td>\n",
       "      <td>74.821999</td>\n",
       "      <td>494.832</td>\n",
       "      <td>NaN</td>\n",
       "      <td>22.591518</td>\n",
       "      <td>160.173615</td>\n",
       "    </tr>\n",
       "    <tr>\n",
       "      <th>3</th>\n",
       "      <td>1.891913</td>\n",
       "      <td>72.878922</td>\n",
       "      <td>494.984</td>\n",
       "      <td>NaN</td>\n",
       "      <td>32.191910</td>\n",
       "      <td>160.149429</td>\n",
       "    </tr>\n",
       "    <tr>\n",
       "      <th>4</th>\n",
       "      <td>1.880034</td>\n",
       "      <td>71.729141</td>\n",
       "      <td>495.136</td>\n",
       "      <td>NaN</td>\n",
       "      <td>38.495632</td>\n",
       "      <td>160.128342</td>\n",
       "    </tr>\n",
       "    <tr>\n",
       "      <th>...</th>\n",
       "      <td>...</td>\n",
       "      <td>...</td>\n",
       "      <td>...</td>\n",
       "      <td>...</td>\n",
       "      <td>...</td>\n",
       "      <td>...</td>\n",
       "    </tr>\n",
       "    <tr>\n",
       "      <th>18265</th>\n",
       "      <td>2.630211</td>\n",
       "      <td>19.418915</td>\n",
       "      <td>3271.416</td>\n",
       "      <td>0.187811</td>\n",
       "      <td>NaN</td>\n",
       "      <td>NaN</td>\n",
       "    </tr>\n",
       "    <tr>\n",
       "      <th>18266</th>\n",
       "      <td>2.643114</td>\n",
       "      <td>21.444370</td>\n",
       "      <td>3271.568</td>\n",
       "      <td>0.185574</td>\n",
       "      <td>NaN</td>\n",
       "      <td>NaN</td>\n",
       "    </tr>\n",
       "    <tr>\n",
       "      <th>18267</th>\n",
       "      <td>2.681300</td>\n",
       "      <td>22.646879</td>\n",
       "      <td>3271.720</td>\n",
       "      <td>0.176074</td>\n",
       "      <td>NaN</td>\n",
       "      <td>NaN</td>\n",
       "    </tr>\n",
       "    <tr>\n",
       "      <th>18268</th>\n",
       "      <td>2.738337</td>\n",
       "      <td>22.253584</td>\n",
       "      <td>3271.872</td>\n",
       "      <td>0.174617</td>\n",
       "      <td>NaN</td>\n",
       "      <td>NaN</td>\n",
       "    </tr>\n",
       "    <tr>\n",
       "      <th>18269</th>\n",
       "      <td>2.792922</td>\n",
       "      <td>19.829920</td>\n",
       "      <td>3272.024</td>\n",
       "      <td>0.176627</td>\n",
       "      <td>NaN</td>\n",
       "      <td>NaN</td>\n",
       "    </tr>\n",
       "  </tbody>\n",
       "</table>\n",
       "<p>18270 rows × 6 columns</p>\n",
       "</div>"
      ],
      "text/plain": [
       "           RHOB         GR  DEPTH_MD      NPHI        PEF         DTC\n",
       "0      1.884186  80.200851   494.528       NaN  20.915468  161.131180\n",
       "1      1.889794  79.262886   494.680       NaN  19.383013  160.603470\n",
       "2      1.896523  74.821999   494.832       NaN  22.591518  160.173615\n",
       "3      1.891913  72.878922   494.984       NaN  32.191910  160.149429\n",
       "4      1.880034  71.729141   495.136       NaN  38.495632  160.128342\n",
       "...         ...        ...       ...       ...        ...         ...\n",
       "18265  2.630211  19.418915  3271.416  0.187811        NaN         NaN\n",
       "18266  2.643114  21.444370  3271.568  0.185574        NaN         NaN\n",
       "18267  2.681300  22.646879  3271.720  0.176074        NaN         NaN\n",
       "18268  2.738337  22.253584  3271.872  0.174617        NaN         NaN\n",
       "18269  2.792922  19.829920  3272.024  0.176627        NaN         NaN\n",
       "\n",
       "[18270 rows x 6 columns]"
      ]
     },
     "execution_count": 246,
     "metadata": {},
     "output_type": "execute_result"
    }
   ],
   "source": [
    "df"
   ]
  },
  {
   "cell_type": "code",
   "execution_count": 247,
   "id": "2a64d322-4f76-4d24-a0b7-de97cccf6df5",
   "metadata": {},
   "outputs": [
    {
     "data": {
      "text/plain": [
       "0        False\n",
       "1        False\n",
       "2        False\n",
       "3        False\n",
       "4        False\n",
       "         ...  \n",
       "18265    False\n",
       "18266    False\n",
       "18267    False\n",
       "18268    False\n",
       "18269    False\n",
       "Length: 18270, dtype: bool"
      ]
     },
     "execution_count": 247,
     "metadata": {},
     "output_type": "execute_result"
    }
   ],
   "source": [
    "df.duplicated()"
   ]
  },
  {
   "cell_type": "code",
   "execution_count": 248,
   "id": "674f0897-5060-412d-893e-4b500041f4c2",
   "metadata": {},
   "outputs": [
    {
     "data": {
      "text/plain": [
       "RHOB           0\n",
       "GR             0\n",
       "DEPTH_MD       0\n",
       "NPHI        4238\n",
       "PEF         1830\n",
       "DTC           81\n",
       "dtype: int64"
      ]
     },
     "execution_count": 248,
     "metadata": {},
     "output_type": "execute_result"
    }
   ],
   "source": [
    "df.isna().sum()"
   ]
  },
  {
   "cell_type": "code",
   "execution_count": 249,
   "id": "38575676-6826-45bf-bdab-f40b6a6c54ec",
   "metadata": {},
   "outputs": [],
   "source": [
    "df['NPHI'] = df['NPHI'].fillna(df['NPHI'].mean())"
   ]
  },
  {
   "cell_type": "code",
   "execution_count": 250,
   "id": "97896178-c48b-43c2-ac56-da3c72f9c7b9",
   "metadata": {},
   "outputs": [],
   "source": [
    "df['PEF'] = df['PEF'].fillna(df['PEF'].mean())"
   ]
  },
  {
   "cell_type": "code",
   "execution_count": 251,
   "id": "59c37cc7-bd2b-4f2e-8d87-070f4eda5d5d",
   "metadata": {},
   "outputs": [],
   "source": [
    "df['DTC'] = df['DTC'].fillna(df['DTC'].mean())"
   ]
  },
  {
   "cell_type": "code",
   "execution_count": 252,
   "id": "f8e313a7-8d2c-49c2-9af5-7f2b164590ba",
   "metadata": {},
   "outputs": [
    {
     "data": {
      "text/plain": [
       "RHOB        0\n",
       "GR          0\n",
       "DEPTH_MD    0\n",
       "NPHI        0\n",
       "PEF         0\n",
       "DTC         0\n",
       "dtype: int64"
      ]
     },
     "execution_count": 252,
     "metadata": {},
     "output_type": "execute_result"
    }
   ],
   "source": [
    "df.isna().sum()"
   ]
  },
  {
   "cell_type": "code",
   "execution_count": 253,
   "id": "6022f6f6-5cfb-4d46-945f-64028413ac2a",
   "metadata": {},
   "outputs": [],
   "source": [
    "def remove_outliers(df,column_name):\n",
    "    q1=df[column_name].quantile(0.25)\n",
    "    q3=df[column_name].quantile(0.75)\n",
    "    iqr=q3-q1\n",
    "    upper_bound=q3+1.5*iqr\n",
    "    lower_bound=q1-1.5*iqr\n",
    "    df[column_name]=df[column_name].clip(upper=upper_bound)\n",
    "    df[column_name]=df[column_name].clip(lower=lower_bound)\n",
    "    return df[column_name]"
   ]
  },
  {
   "cell_type": "code",
   "execution_count": 254,
   "id": "c5c9b824-56c6-4e42-b32c-2d1fd8069155",
   "metadata": {},
   "outputs": [
    {
     "name": "stdout",
     "output_type": "stream",
     "text": [
      "['RHOB', 'GR', 'DEPTH_MD', 'NPHI', 'PEF', 'DTC']\n"
     ]
    }
   ],
   "source": [
    "num_cols = df.columns.tolist()\n",
    "print(num_cols)"
   ]
  },
  {
   "cell_type": "code",
   "execution_count": 255,
   "id": "5fcfb7ea-f41e-48ef-a5a2-15b3018d4c21",
   "metadata": {},
   "outputs": [],
   "source": [
    "for col in num_cols:\n",
    "    df[col]=remove_outliers(df,col)"
   ]
  },
  {
   "cell_type": "code",
   "execution_count": 256,
   "id": "f16f99c4-103a-4a63-92aa-1ce2b668507d",
   "metadata": {},
   "outputs": [
    {
     "data": {
      "image/png": "[encoded data removed]",
      "text/plain": [
       "<Figure size 640x480 with 1 Axes>"
      ]
     },
     "metadata": {},
     "output_type": "display_data"
    }
   ],
   "source": [
    "plt.boxplot(df)\n",
    "plt.show()"
   ]
  },
  {
   "cell_type": "code",
   "execution_count": 257,
   "id": "b6ba8c3f-d68d-4af4-a50b-82d3d3b559d9",
   "metadata": {
    "scrolled": true
   },
   "outputs": [
    {
     "data": {
      "text/html": [
       "<div>\n",
       "<style scoped>\n",
       "    .dataframe tbody tr th:only-of-type {\n",
       "        vertical-align: middle;\n",
       "    }\n",
       "\n",
       "    .dataframe tbody tr th {\n",
       "        vertical-align: top;\n",
       "    }\n",
       "\n",
       "    .dataframe thead th {\n",
       "        text-align: right;\n",
       "    }\n",
       "</style>\n",
       "<table border=\"1\" class=\"dataframe\">\n",
       "  <thead>\n",
       "    <tr style=\"text-align: right;\">\n",
       "      <th></th>\n",
       "      <th>RHOB</th>\n",
       "      <th>GR</th>\n",
       "      <th>DEPTH_MD</th>\n",
       "      <th>NPHI</th>\n",
       "      <th>PEF</th>\n",
       "      <th>DTC</th>\n",
       "    </tr>\n",
       "  </thead>\n",
       "  <tbody>\n",
       "    <tr>\n",
       "      <th>0</th>\n",
       "      <td>0.314847</td>\n",
       "      <td>0.561250</td>\n",
       "      <td>0.000000</td>\n",
       "      <td>0.477337</td>\n",
       "      <td>1.0</td>\n",
       "      <td>0.876716</td>\n",
       "    </tr>\n",
       "    <tr>\n",
       "      <th>1</th>\n",
       "      <td>0.318528</td>\n",
       "      <td>0.554137</td>\n",
       "      <td>0.000055</td>\n",
       "      <td>0.477337</td>\n",
       "      <td>1.0</td>\n",
       "      <td>0.872327</td>\n",
       "    </tr>\n",
       "    <tr>\n",
       "      <th>2</th>\n",
       "      <td>0.322946</td>\n",
       "      <td>0.520460</td>\n",
       "      <td>0.000109</td>\n",
       "      <td>0.477337</td>\n",
       "      <td>1.0</td>\n",
       "      <td>0.868752</td>\n",
       "    </tr>\n",
       "    <tr>\n",
       "      <th>3</th>\n",
       "      <td>0.319919</td>\n",
       "      <td>0.505724</td>\n",
       "      <td>0.000164</td>\n",
       "      <td>0.477337</td>\n",
       "      <td>1.0</td>\n",
       "      <td>0.868550</td>\n",
       "    </tr>\n",
       "    <tr>\n",
       "      <th>4</th>\n",
       "      <td>0.312121</td>\n",
       "      <td>0.497005</td>\n",
       "      <td>0.000219</td>\n",
       "      <td>0.477337</td>\n",
       "      <td>1.0</td>\n",
       "      <td>0.868375</td>\n",
       "    </tr>\n",
       "  </tbody>\n",
       "</table>\n",
       "</div>"
      ],
      "text/plain": [
       "       RHOB        GR  DEPTH_MD      NPHI  PEF       DTC\n",
       "0  0.314847  0.561250  0.000000  0.477337  1.0  0.876716\n",
       "1  0.318528  0.554137  0.000055  0.477337  1.0  0.872327\n",
       "2  0.322946  0.520460  0.000109  0.477337  1.0  0.868752\n",
       "3  0.319919  0.505724  0.000164  0.477337  1.0  0.868550\n",
       "4  0.312121  0.497005  0.000219  0.477337  1.0  0.868375"
      ]
     },
     "execution_count": 257,
     "metadata": {},
     "output_type": "execute_result"
    }
   ],
   "source": [
    "minmax_scaled = MinMaxScaler(feature_range=(0,1))\n",
    "df[['RHOB','GR','DEPTH_MD','PEF','DTC','NPHI']] = minmax_scaled.fit_transform(df[['RHOB','GR','DEPTH_MD','PEF','DTC','NPHI']])\n",
    "df.head()"
   ]
  },
  {
   "cell_type": "code",
   "execution_count": 258,
   "id": "9f2f7271-6075-4f53-a268-207d660eeeae",
   "metadata": {},
   "outputs": [
    {
     "data": {
      "text/html": [
       "<div>\n",
       "<style scoped>\n",
       "    .dataframe tbody tr th:only-of-type {\n",
       "        vertical-align: middle;\n",
       "    }\n",
       "\n",
       "    .dataframe tbody tr th {\n",
       "        vertical-align: top;\n",
       "    }\n",
       "\n",
       "    .dataframe thead th {\n",
       "        text-align: right;\n",
       "    }\n",
       "</style>\n",
       "<table border=\"1\" class=\"dataframe\">\n",
       "  <thead>\n",
       "    <tr style=\"text-align: right;\">\n",
       "      <th></th>\n",
       "      <th>RHOB</th>\n",
       "      <th>DEPTH_MD</th>\n",
       "    </tr>\n",
       "  </thead>\n",
       "  <tbody>\n",
       "    <tr>\n",
       "      <th>0</th>\n",
       "      <td>0.314847</td>\n",
       "      <td>0.000000</td>\n",
       "    </tr>\n",
       "    <tr>\n",
       "      <th>1</th>\n",
       "      <td>0.318528</td>\n",
       "      <td>0.000055</td>\n",
       "    </tr>\n",
       "    <tr>\n",
       "      <th>2</th>\n",
       "      <td>0.322946</td>\n",
       "      <td>0.000109</td>\n",
       "    </tr>\n",
       "  </tbody>\n",
       "</table>\n",
       "</div>"
      ],
      "text/plain": [
       "       RHOB  DEPTH_MD\n",
       "0  0.314847  0.000000\n",
       "1  0.318528  0.000055\n",
       "2  0.322946  0.000109"
      ]
     },
     "execution_count": 258,
     "metadata": {},
     "output_type": "execute_result"
    }
   ],
   "source": [
    "X = df[['RHOB','DEPTH_MD',]]\n",
    "X.head(3)"
   ]
  },
  {
   "cell_type": "code",
   "execution_count": 259,
   "id": "7fb961a0-66cf-4d9c-b845-8c73f635777a",
   "metadata": {},
   "outputs": [],
   "source": [
    "inertia = []\n",
    "k_values = range(1, 11)\n",
    "\n",
    "for k in k_values:\n",
    "    kmeans = KMeans(n_clusters=k, random_state=42)\n",
    "    kmeans.fit(df)\n",
    "    inertia.append(kmeans.inertia_)"
   ]
  },
  {
   "cell_type": "code",
   "execution_count": 260,
   "id": "21848fcb-9adc-45e5-b662-1b9c192b3b1e",
   "metadata": {},
   "outputs": [
    {
     "data": {
      "image/png": "[encoded data removed]",
      "text/plain": [
       "<Figure size 800x600 with 1 Axes>"
      ]
     },
     "metadata": {},
     "output_type": "display_data"
    }
   ],
   "source": [
    "plt.figure(figsize = (8,6))\n",
    "plt.plot(range(1,11), inertia,marker = 'o')\n",
    "plt.title('Elbow Method')\n",
    "plt.xlabel('Number of Clusters')\n",
    "plt.ylabel('Inertia')\n",
    "plt.show()"
   ]
  },
  {
   "cell_type": "code",
   "execution_count": 261,
   "id": "c8b381df-be8d-4f91-b760-991b0ac09b81",
   "metadata": {},
   "outputs": [],
   "source": [
    "y_kmeans = kmeans.fit_predict(X)"
   ]
  },
  {
   "cell_type": "code",
   "execution_count": 262,
   "id": "6c587a7f-f697-4341-815e-0b4845ea405f",
   "metadata": {},
   "outputs": [],
   "source": [
    "df['cluster'] = y_kmeans"
   ]
  },
  {
   "cell_type": "code",
   "execution_count": 263,
   "id": "cc51339f-adb3-49fa-8d61-f49c6c97103b",
   "metadata": {},
   "outputs": [
    {
     "data": {
      "image/png": "[encoded data removed]",
      "text/plain": [
       "<Figure size 640x480 with 1 Axes>"
      ]
     },
     "metadata": {},
     "output_type": "display_data"
    }
   ],
   "source": [
    "colors = ['r','g','b','y','m']\n",
    "\n",
    "for i in range(5):\n",
    "  cluster_data = X[y_kmeans ==i]\n",
    "  plt.scatter(cluster_data['RHOB'],\n",
    "              cluster_data['DEPTH_MD'],\n",
    "              \n",
    "              \n",
    "              c=colors[i],\n",
    "              label = f'Cluster{i}')\n",
    "  plt.legend()"
   ]
  },
  {
   "cell_type": "code",
   "execution_count": 264,
   "id": "d029b7ab-9734-4f60-b383-9ec9e1357250",
   "metadata": {},
   "outputs": [],
   "source": [
    "def predict_cluster(RHOB,DEPTH_MD):\n",
    "  new_data = [[RHOB,DEPTH_MD]]\n",
    "  cluster = kmeans.predict(new_data)\n",
    "  return cluster[0]"
   ]
  },
  {
   "cell_type": "code",
   "execution_count": 265,
   "id": "d35047b1-84f0-4cf4-a813-aede8569bc93",
   "metadata": {},
   "outputs": [
    {
     "name": "stdout",
     "output_type": "stream",
     "text": [
      "The data belongs to cluster: 7\n"
     ]
    },
    {
     "name": "stderr",
     "output_type": "stream",
     "text": [
      "C:\\Users\\HP\\anaconda3\\Lib\\site-packages\\sklearn\\base.py:493: UserWarning: X does not have valid feature names, but KMeans was fitted with feature names\n",
      "  warnings.warn(\n"
     ]
    }
   ],
   "source": [
    "# example\n",
    "new_data_RHOB = 290\n",
    "new_data_DEPTH_MD = 24\n",
    "\n",
    "predicted_cluster = predict_cluster(new_data_RHOB,new_data_DEPTH_MD)\n",
    "print(f'The data belongs to cluster: {predicted_cluster}')"
   ]
  },
  {
   "cell_type": "code",
   "execution_count": null,
   "id": "80f898da-5a2c-4540-803c-4ed93c540bed",
   "metadata": {},
   "outputs": [],
   "source": [
    "from sklearn.metrics import silhouette_score\n",
    "  #Silhouette score of kmeans clustering\n",
    "silhouette_avg1 = silhouette_score(X, y_kmeans)\n",
    "print(silhouette_avg1)"
   ]
  },
  {
   "cell_type": "code",
   "execution_count": null,
   "id": "c2cc8243-6610-4a7a-a28f-2702518b3d2f",
   "metadata": {},
   "outputs": [],
   "source": [
    "k_values = range(2, 6)  # Experiment with 2 to 5 clusters\n",
    "\n",
    "# Create subplots for visualizing results for different K\n",
    "plt.figure(figsize=(15, len(k_values) * 5))\n",
    "colors = ['r', 'g', 'b', 'y', 'm', 'c', 'k']  # Adjust if more clusters are needed\n",
    "\n",
    "for idx, k in enumerate(k_values, 1):\n",
    "    # Perform k-means clustering\n",
    "    kmeans = KMeans(n_clusters=k, random_state=42)\n",
    "    y_kmeans = kmeans.fit_predict(df)\n",
    "\n",
    "    # Plot the clusters\n",
    "    plt.subplot(len(k_values), 1, idx)\n",
    "    for i in range(k):\n",
    "        cluster_data = X[y_kmeans == i]  # Group data by cluster\n",
    "        plt.scatter(\n",
    "            cluster_data['RHOB'],\n",
    "            cluster_data['DEPTH_MD'],\n",
    "            c=colors[i % len(colors)],  # Cycle through colors\n",
    "            label=f'Cluster {i}',\n",
    "            s=30\n",
    "        )\n",
    "    \n",
    "    plt.title(f\"K-Means Clustering with K={k}\")\n",
    "    plt.xlabel('RHOB')\n",
    "    plt.ylabel('DEPTH_MD')\n",
    "    plt.legend()\n",
    "\n",
    "plt.tight_layout()\n",
    "plt.show()"
   ]
  },
  {
   "cell_type": "code",
   "execution_count": null,
   "id": "6b256379-6ed9-423e-8955-91982d6133c2",
   "metadata": {},
   "outputs": [],
   "source": []
  }
 ],
 "metadata": {
  "kernelspec": {
   "display_name": "Python 3 (ipykernel)",
   "language": "python",
   "name": "python3"
  },
  "language_info": {
   "codemirror_mode": {
    "name": "ipython",
    "version": 3
   },
   "file_extension": ".py",
   "mimetype": "text/x-python",
   "name": "python",
   "nbconvert_exporter": "python",
   "pygments_lexer": "ipython3",
   "version": "3.12.7"
  }
 },
 "nbformat": 4,
 "nbformat_minor": 5
}
